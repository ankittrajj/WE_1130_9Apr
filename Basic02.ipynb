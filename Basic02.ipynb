{
 "cells": [
  {
   "cell_type": "code",
   "execution_count": 3,
   "id": "aa550162",
   "metadata": {},
   "outputs": [
    {
     "data": {
      "text/plain": [
       "2"
      ]
     },
     "execution_count": 3,
     "metadata": {},
     "output_type": "execute_result"
    }
   ],
   "source": [
    "#airthmetic operator\n",
    "# +,-,/,*,%\n",
    "\n",
    "# mod operator-----> give you output as remainder.\n",
    "a = 5\n",
    "b=3\n",
    "c = a%b\n",
    "c"
   ]
  },
  {
   "cell_type": "code",
   "execution_count": 5,
   "id": "96c25057",
   "metadata": {},
   "outputs": [
    {
     "name": "stdout",
     "output_type": "stream",
     "text": [
      "Enter a number78\n",
      "78\n"
     ]
    }
   ],
   "source": [
    "# user input---->   \n",
    "# ask user to enter a number.\n",
    "\n",
    "x = input(\"Enter a number\")\n",
    "print(x)"
   ]
  },
  {
   "cell_type": "code",
   "execution_count": 9,
   "id": "99c9bdd9",
   "metadata": {},
   "outputs": [
    {
     "name": "stdout",
     "output_type": "stream",
     "text": [
      "Enter the first number1\n",
      "Enter the second number2\n",
      "3\n"
     ]
    }
   ],
   "source": [
    "#wap to add two number with the help of user input.\n",
    "\n",
    "a = int(input(\"Enter the first number\"))\n",
    "b = int(input(\"Enter the second number\"))\n",
    "add = a+b\n",
    "print(add)"
   ]
  },
  {
   "cell_type": "code",
   "execution_count": 8,
   "id": "545f4c7c",
   "metadata": {},
   "outputs": [
    {
     "name": "stdout",
     "output_type": "stream",
     "text": [
      "12\n"
     ]
    }
   ],
   "source": [
    "a = '1'\n",
    "b='2'\n",
    "c=a+b\n",
    "print(c)"
   ]
  },
  {
   "cell_type": "code",
   "execution_count": 10,
   "id": "3da068ee",
   "metadata": {},
   "outputs": [
    {
     "name": "stdout",
     "output_type": "stream",
     "text": [
      "Enter the first number5\n",
      "Enter the second number9\n"
     ]
    },
    {
     "ename": "TypeError",
     "evalue": "unsupported operand type(s) for +: 'int' and 'str'",
     "output_type": "error",
     "traceback": [
      "\u001b[1;31m---------------------------------------------------------------------------\u001b[0m",
      "\u001b[1;31mTypeError\u001b[0m                                 Traceback (most recent call last)",
      "\u001b[1;32m~\\AppData\\Local\\Temp/ipykernel_3888/2417330974.py\u001b[0m in \u001b[0;36m<module>\u001b[1;34m\u001b[0m\n\u001b[0;32m      2\u001b[0m \u001b[0ma\u001b[0m \u001b[1;33m=\u001b[0m \u001b[0mint\u001b[0m\u001b[1;33m(\u001b[0m\u001b[0minput\u001b[0m\u001b[1;33m(\u001b[0m\u001b[1;34m\"Enter the first number\"\u001b[0m\u001b[1;33m)\u001b[0m\u001b[1;33m)\u001b[0m\u001b[1;33m\u001b[0m\u001b[1;33m\u001b[0m\u001b[0m\n\u001b[0;32m      3\u001b[0m \u001b[0mb\u001b[0m \u001b[1;33m=\u001b[0m \u001b[0minput\u001b[0m\u001b[1;33m(\u001b[0m\u001b[1;34m\"Enter the second number\"\u001b[0m\u001b[1;33m)\u001b[0m\u001b[1;33m\u001b[0m\u001b[1;33m\u001b[0m\u001b[0m\n\u001b[1;32m----> 4\u001b[1;33m \u001b[0madd\u001b[0m \u001b[1;33m=\u001b[0m \u001b[0ma\u001b[0m\u001b[1;33m+\u001b[0m\u001b[0mb\u001b[0m\u001b[1;33m\u001b[0m\u001b[1;33m\u001b[0m\u001b[0m\n\u001b[0m\u001b[0;32m      5\u001b[0m \u001b[0mprint\u001b[0m\u001b[1;33m(\u001b[0m\u001b[0madd\u001b[0m\u001b[1;33m)\u001b[0m\u001b[1;33m\u001b[0m\u001b[1;33m\u001b[0m\u001b[0m\n",
      "\u001b[1;31mTypeError\u001b[0m: unsupported operand type(s) for +: 'int' and 'str'"
     ]
    }
   ],
   "source": [
    "#possibilities\n",
    "a = int(input(\"Enter the first number\"))\n",
    "b = input(\"Enter the second number\")\n",
    "add = a+b\n",
    "print(add)"
   ]
  },
  {
   "cell_type": "code",
   "execution_count": 13,
   "id": "cabcc0f0",
   "metadata": {},
   "outputs": [
    {
     "name": "stdout",
     "output_type": "stream",
     "text": [
      "Enter the first number7\n",
      "Enter the second number3\n",
      "10.0\n"
     ]
    }
   ],
   "source": [
    "a = int(input(\"Enter the first number\"))\n",
    "b = float(input(\"Enter the second number\"))\n",
    "add = a+b\n",
    "print(add)"
   ]
  },
  {
   "cell_type": "code",
   "execution_count": 20,
   "id": "1fc1b348",
   "metadata": {},
   "outputs": [
    {
     "name": "stdout",
     "output_type": "stream",
     "text": [
      "ghar ja bhai !!\n"
     ]
    }
   ],
   "source": [
    "# condition-----> \n",
    "# Syntax----> if / else---> use for conditions\n",
    "\n",
    "# declare the var----> \n",
    "# if condition :\n",
    "#     print(msg)\n",
    "    \n",
    "# indivduals -----> they are able to vote or not.\n",
    "\n",
    "x = 8\n",
    "if x>18:\n",
    "    print(\"Ajjao vote krne chalte hai\")\n",
    "else:\n",
    "    print('ghar ja bhai !!')\n"
   ]
  },
  {
   "cell_type": "code",
   "execution_count": 22,
   "id": "e8a3425a",
   "metadata": {},
   "outputs": [
    {
     "name": "stdout",
     "output_type": "stream",
     "text": [
      "Enter the age34\n",
      "Ajjao vote krne chalte hai\n"
     ]
    }
   ],
   "source": [
    "x = int(input(\"Enter the age\"))\n",
    "if x>18:\n",
    "    print(\"Ajjao vote krne chalte hai\")\n",
    "else:\n",
    "    print('ghar ja bhai !!')"
   ]
  },
  {
   "cell_type": "code",
   "execution_count": 27,
   "id": "90a3a4f8",
   "metadata": {},
   "outputs": [
    {
     "name": "stdout",
     "output_type": "stream",
     "text": [
      "first time voter hu bhiya!!\n"
     ]
    }
   ],
   "source": [
    "# elif\n",
    "x = 18\n",
    "if x>18:\n",
    "    print(\"Ajjao vote krne chalte hai\")\n",
    "elif x == 18:\n",
    "    print(\"first time voter hu bhiya!!\")\n",
    "else:\n",
    "    print('ghar ja bhai !!')"
   ]
  },
  {
   "cell_type": "code",
   "execution_count": 29,
   "id": "5898500f",
   "metadata": {},
   "outputs": [
    {
     "name": "stdout",
     "output_type": "stream",
     "text": [
      "Enter the number98\n",
      "even number\n"
     ]
    }
   ],
   "source": [
    "#wap to find odd and even number.\n",
    "\n",
    "x = int(input(\"Enter the number\"))\n",
    "if x%2 == 0 :\n",
    "    print(\"even number\")\n",
    "else:\n",
    "    print(\"Odd number\")"
   ]
  },
  {
   "cell_type": "code",
   "execution_count": 34,
   "id": "7a758f42",
   "metadata": {},
   "outputs": [
    {
     "name": "stdout",
     "output_type": "stream",
     "text": [
      "Enter your salary80000\n",
      "Enter your year of service34\n",
      "Bonus is  4000.0\n",
      "84000.0\n"
     ]
    }
   ],
   "source": [
    "# A company decided to give bonus of 5% to employee if \n",
    "# his/her year of service is more than 5 years.\n",
    "# Ask user for their salary and year of service \n",
    "# and print the net bonus amount.\n",
    "\n",
    "salary = int(input(\"Enter your salary\"))\n",
    "year_of_service = int(input(\"Enter your year of service\"))\n",
    "\n",
    "if year_of_service > 5:\n",
    "    bonus = (salary * 5/100)\n",
    "    print(\"Bonus is \",bonus)\n",
    "else:\n",
    "    print(\"No bonus\")\n",
    "    \n",
    "total_sal = salary + bonus\n",
    "print(total_sal)\n",
    "\n"
   ]
  },
  {
   "cell_type": "code",
   "execution_count": null,
   "id": "de733483",
   "metadata": {},
   "outputs": [],
   "source": []
  }
 ],
 "metadata": {
  "kernelspec": {
   "display_name": "Python 3 (ipykernel)",
   "language": "python",
   "name": "python3"
  },
  "language_info": {
   "codemirror_mode": {
    "name": "ipython",
    "version": 3
   },
   "file_extension": ".py",
   "mimetype": "text/x-python",
   "name": "python",
   "nbconvert_exporter": "python",
   "pygments_lexer": "ipython3",
   "version": "3.9.7"
  }
 },
 "nbformat": 4,
 "nbformat_minor": 5
}
